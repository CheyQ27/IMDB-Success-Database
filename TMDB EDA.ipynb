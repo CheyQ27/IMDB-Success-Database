{
 "cells": [
  {
   "cell_type": "code",
   "execution_count": 18,
   "id": "d6e127a0",
   "metadata": {},
   "outputs": [],
   "source": [
    "import pandas as pd \n",
    "import numpy as np"
   ]
  },
  {
   "cell_type": "code",
   "execution_count": 19,
   "id": "7e7b605b",
   "metadata": {},
   "outputs": [
    {
     "name": "stdout",
     "output_type": "stream",
     "text": [
      "<class 'pandas.core.frame.DataFrame'>\n",
      "RangeIndex: 1203 entries, 1 to 1203\n",
      "Data columns (total 26 columns):\n",
      " #   Column                 Non-Null Count  Dtype  \n",
      "---  ------                 --------------  -----  \n",
      " 0   imdb_id                1203 non-null   object \n",
      " 1   adult                  1203 non-null   float64\n",
      " 2   backdrop_path          630 non-null    object \n",
      " 3   belongs_to_collection  110 non-null    object \n",
      " 4   budget                 1203 non-null   float64\n",
      " 5   genres                 1203 non-null   object \n",
      " 6   homepage               66 non-null     object \n",
      " 7   id                     1203 non-null   float64\n",
      " 8   original_language      1203 non-null   object \n",
      " 9   original_title         1203 non-null   object \n",
      " 10  overview               1179 non-null   object \n",
      " 11  popularity             1203 non-null   float64\n",
      " 12  poster_path            1062 non-null   object \n",
      " 13  production_companies   1203 non-null   object \n",
      " 14  production_countries   1203 non-null   object \n",
      " 15  release_date           1191 non-null   object \n",
      " 16  revenue                1203 non-null   float64\n",
      " 17  runtime                1203 non-null   float64\n",
      " 18  spoken_languages       1203 non-null   object \n",
      " 19  status                 1203 non-null   object \n",
      " 20  tagline                511 non-null    object \n",
      " 21  title                  1203 non-null   object \n",
      " 22  video                  1203 non-null   float64\n",
      " 23  vote_average           1203 non-null   float64\n",
      " 24  vote_count             1203 non-null   float64\n",
      " 25  certification          372 non-null    object \n",
      "dtypes: float64(9), object(17)\n",
      "memory usage: 244.5+ KB\n"
     ]
    }
   ],
   "source": [
    "y2k = pd.read_csv(r'Loading_Cleaning/Data/Datafinal_tmdb_data_2000.csv.gz')\n",
    "y2k = y2k.drop(labels=0, axis=0)\n",
    "y2k.info()"
   ]
  },
  {
   "cell_type": "code",
   "execution_count": 20,
   "id": "53c046b5",
   "metadata": {},
   "outputs": [
    {
     "name": "stdout",
     "output_type": "stream",
     "text": [
      "<class 'pandas.core.frame.DataFrame'>\n",
      "RangeIndex: 1285 entries, 1 to 1285\n",
      "Data columns (total 26 columns):\n",
      " #   Column                 Non-Null Count  Dtype  \n",
      "---  ------                 --------------  -----  \n",
      " 0   imdb_id                1285 non-null   object \n",
      " 1   adult                  1285 non-null   float64\n",
      " 2   backdrop_path          650 non-null    object \n",
      " 3   belongs_to_collection  86 non-null     object \n",
      " 4   budget                 1285 non-null   float64\n",
      " 5   genres                 1285 non-null   object \n",
      " 6   homepage               108 non-null    object \n",
      " 7   id                     1285 non-null   float64\n",
      " 8   original_language      1285 non-null   object \n",
      " 9   original_title         1285 non-null   object \n",
      " 10  overview               1257 non-null   object \n",
      " 11  popularity             1285 non-null   float64\n",
      " 12  poster_path            1129 non-null   object \n",
      " 13  production_companies   1285 non-null   object \n",
      " 14  production_countries   1285 non-null   object \n",
      " 15  release_date           1277 non-null   object \n",
      " 16  revenue                1285 non-null   float64\n",
      " 17  runtime                1285 non-null   float64\n",
      " 18  spoken_languages       1285 non-null   object \n",
      " 19  status                 1285 non-null   object \n",
      " 20  tagline                527 non-null    object \n",
      " 21  title                  1285 non-null   object \n",
      " 22  video                  1285 non-null   float64\n",
      " 23  vote_average           1285 non-null   float64\n",
      " 24  vote_count             1285 non-null   float64\n",
      " 25  certification          418 non-null    object \n",
      "dtypes: float64(9), object(17)\n",
      "memory usage: 261.1+ KB\n"
     ]
    }
   ],
   "source": [
    "y2k1 = pd.read_csv(r'Loading_Cleaning/Data/Datafinal_tmdb_data_2001.csv.gz')\n",
    "y2k1 = y2k1.drop(labels=0, axis=0)\n",
    "y2k1.info()"
   ]
  },
  {
   "cell_type": "code",
   "execution_count": 21,
   "id": "5cddfb78",
   "metadata": {},
   "outputs": [
    {
     "data": {
      "text/html": [
       "<div>\n",
       "<style scoped>\n",
       "    .dataframe tbody tr th:only-of-type {\n",
       "        vertical-align: middle;\n",
       "    }\n",
       "\n",
       "    .dataframe tbody tr th {\n",
       "        vertical-align: top;\n",
       "    }\n",
       "\n",
       "    .dataframe thead th {\n",
       "        text-align: right;\n",
       "    }\n",
       "</style>\n",
       "<table border=\"1\" class=\"dataframe\">\n",
       "  <thead>\n",
       "    <tr style=\"text-align: right;\">\n",
       "      <th></th>\n",
       "      <th>imdb_id</th>\n",
       "      <th>adult</th>\n",
       "      <th>backdrop_path</th>\n",
       "      <th>belongs_to_collection</th>\n",
       "      <th>budget</th>\n",
       "      <th>genres</th>\n",
       "      <th>homepage</th>\n",
       "      <th>id</th>\n",
       "      <th>original_language</th>\n",
       "      <th>original_title</th>\n",
       "      <th>...</th>\n",
       "      <th>revenue</th>\n",
       "      <th>runtime</th>\n",
       "      <th>spoken_languages</th>\n",
       "      <th>status</th>\n",
       "      <th>tagline</th>\n",
       "      <th>title</th>\n",
       "      <th>video</th>\n",
       "      <th>vote_average</th>\n",
       "      <th>vote_count</th>\n",
       "      <th>certification</th>\n",
       "    </tr>\n",
       "  </thead>\n",
       "  <tbody>\n",
       "    <tr>\n",
       "      <th>1</th>\n",
       "      <td>tt0113026</td>\n",
       "      <td>0.0</td>\n",
       "      <td>/vMFs7nw6P0bIV1jDsQpxAieAVnH.jpg</td>\n",
       "      <td>NaN</td>\n",
       "      <td>10000000.0</td>\n",
       "      <td>[{'id': 35, 'name': 'Comedy'}, {'id': 10402, '...</td>\n",
       "      <td>NaN</td>\n",
       "      <td>62127.0</td>\n",
       "      <td>en</td>\n",
       "      <td>The Fantasticks</td>\n",
       "      <td>...</td>\n",
       "      <td>0.0</td>\n",
       "      <td>86.0</td>\n",
       "      <td>[{'english_name': 'English', 'iso_639_1': 'en'...</td>\n",
       "      <td>Released</td>\n",
       "      <td>Try to remember the first time magic happened</td>\n",
       "      <td>The Fantasticks</td>\n",
       "      <td>0.0</td>\n",
       "      <td>5.500</td>\n",
       "      <td>22.0</td>\n",
       "      <td>NaN</td>\n",
       "    </tr>\n",
       "    <tr>\n",
       "      <th>2</th>\n",
       "      <td>tt0113092</td>\n",
       "      <td>0.0</td>\n",
       "      <td>NaN</td>\n",
       "      <td>NaN</td>\n",
       "      <td>0.0</td>\n",
       "      <td>[{'id': 878, 'name': 'Science Fiction'}]</td>\n",
       "      <td>NaN</td>\n",
       "      <td>110977.0</td>\n",
       "      <td>en</td>\n",
       "      <td>For the Cause</td>\n",
       "      <td>...</td>\n",
       "      <td>0.0</td>\n",
       "      <td>100.0</td>\n",
       "      <td>[{'english_name': 'English', 'iso_639_1': 'en'...</td>\n",
       "      <td>Released</td>\n",
       "      <td>The ultimate showdown on a forbidden planet.</td>\n",
       "      <td>For the Cause</td>\n",
       "      <td>0.0</td>\n",
       "      <td>5.100</td>\n",
       "      <td>8.0</td>\n",
       "      <td>NaN</td>\n",
       "    </tr>\n",
       "    <tr>\n",
       "      <th>3</th>\n",
       "      <td>tt0116391</td>\n",
       "      <td>0.0</td>\n",
       "      <td>NaN</td>\n",
       "      <td>NaN</td>\n",
       "      <td>0.0</td>\n",
       "      <td>[{'id': 18, 'name': 'Drama'}, {'id': 28, 'name...</td>\n",
       "      <td>NaN</td>\n",
       "      <td>442869.0</td>\n",
       "      <td>hi</td>\n",
       "      <td>Gang</td>\n",
       "      <td>...</td>\n",
       "      <td>0.0</td>\n",
       "      <td>152.0</td>\n",
       "      <td>[{'english_name': 'Hindi', 'iso_639_1': 'hi', ...</td>\n",
       "      <td>Released</td>\n",
       "      <td>NaN</td>\n",
       "      <td>Gang</td>\n",
       "      <td>0.0</td>\n",
       "      <td>0.000</td>\n",
       "      <td>0.0</td>\n",
       "      <td>NaN</td>\n",
       "    </tr>\n",
       "    <tr>\n",
       "      <th>4</th>\n",
       "      <td>tt0118694</td>\n",
       "      <td>0.0</td>\n",
       "      <td>/n4GJFGzsc7NinI1VeGDXIcQjtU2.jpg</td>\n",
       "      <td>NaN</td>\n",
       "      <td>150000.0</td>\n",
       "      <td>[{'id': 18, 'name': 'Drama'}, {'id': 10749, 'n...</td>\n",
       "      <td>http://www.wkw-inthemoodforlove.com/</td>\n",
       "      <td>843.0</td>\n",
       "      <td>cn</td>\n",
       "      <td>花樣年華</td>\n",
       "      <td>...</td>\n",
       "      <td>12854953.0</td>\n",
       "      <td>99.0</td>\n",
       "      <td>[{'english_name': 'Cantonese', 'iso_639_1': 'c...</td>\n",
       "      <td>Released</td>\n",
       "      <td>Feel the heat, keep the feeling burning, let t...</td>\n",
       "      <td>In the Mood for Love</td>\n",
       "      <td>0.0</td>\n",
       "      <td>8.107</td>\n",
       "      <td>1932.0</td>\n",
       "      <td>PG</td>\n",
       "    </tr>\n",
       "    <tr>\n",
       "      <th>5</th>\n",
       "      <td>tt0118852</td>\n",
       "      <td>0.0</td>\n",
       "      <td>NaN</td>\n",
       "      <td>NaN</td>\n",
       "      <td>0.0</td>\n",
       "      <td>[{'id': 18, 'name': 'Drama'}]</td>\n",
       "      <td>NaN</td>\n",
       "      <td>49511.0</td>\n",
       "      <td>en</td>\n",
       "      <td>Chinese Coffee</td>\n",
       "      <td>...</td>\n",
       "      <td>0.0</td>\n",
       "      <td>99.0</td>\n",
       "      <td>[{'english_name': 'English', 'iso_639_1': 'en'...</td>\n",
       "      <td>Released</td>\n",
       "      <td>There's a fine line between friendship and bet...</td>\n",
       "      <td>Chinese Coffee</td>\n",
       "      <td>0.0</td>\n",
       "      <td>6.900</td>\n",
       "      <td>46.0</td>\n",
       "      <td>R</td>\n",
       "    </tr>\n",
       "  </tbody>\n",
       "</table>\n",
       "<p>5 rows × 26 columns</p>\n",
       "</div>"
      ],
      "text/plain": [
       "     imdb_id  adult                     backdrop_path belongs_to_collection  \\\n",
       "1  tt0113026    0.0  /vMFs7nw6P0bIV1jDsQpxAieAVnH.jpg                   NaN   \n",
       "2  tt0113092    0.0                               NaN                   NaN   \n",
       "3  tt0116391    0.0                               NaN                   NaN   \n",
       "4  tt0118694    0.0  /n4GJFGzsc7NinI1VeGDXIcQjtU2.jpg                   NaN   \n",
       "5  tt0118852    0.0                               NaN                   NaN   \n",
       "\n",
       "       budget                                             genres  \\\n",
       "1  10000000.0  [{'id': 35, 'name': 'Comedy'}, {'id': 10402, '...   \n",
       "2         0.0           [{'id': 878, 'name': 'Science Fiction'}]   \n",
       "3         0.0  [{'id': 18, 'name': 'Drama'}, {'id': 28, 'name...   \n",
       "4    150000.0  [{'id': 18, 'name': 'Drama'}, {'id': 10749, 'n...   \n",
       "5         0.0                      [{'id': 18, 'name': 'Drama'}]   \n",
       "\n",
       "                               homepage        id original_language  \\\n",
       "1                                   NaN   62127.0                en   \n",
       "2                                   NaN  110977.0                en   \n",
       "3                                   NaN  442869.0                hi   \n",
       "4  http://www.wkw-inthemoodforlove.com/     843.0                cn   \n",
       "5                                   NaN   49511.0                en   \n",
       "\n",
       "    original_title  ...     revenue  runtime  \\\n",
       "1  The Fantasticks  ...         0.0     86.0   \n",
       "2    For the Cause  ...         0.0    100.0   \n",
       "3             Gang  ...         0.0    152.0   \n",
       "4             花樣年華  ...  12854953.0     99.0   \n",
       "5   Chinese Coffee  ...         0.0     99.0   \n",
       "\n",
       "                                    spoken_languages    status  \\\n",
       "1  [{'english_name': 'English', 'iso_639_1': 'en'...  Released   \n",
       "2  [{'english_name': 'English', 'iso_639_1': 'en'...  Released   \n",
       "3  [{'english_name': 'Hindi', 'iso_639_1': 'hi', ...  Released   \n",
       "4  [{'english_name': 'Cantonese', 'iso_639_1': 'c...  Released   \n",
       "5  [{'english_name': 'English', 'iso_639_1': 'en'...  Released   \n",
       "\n",
       "                                             tagline                 title  \\\n",
       "1      Try to remember the first time magic happened       The Fantasticks   \n",
       "2       The ultimate showdown on a forbidden planet.         For the Cause   \n",
       "3                                                NaN                  Gang   \n",
       "4  Feel the heat, keep the feeling burning, let t...  In the Mood for Love   \n",
       "5  There's a fine line between friendship and bet...        Chinese Coffee   \n",
       "\n",
       "   video  vote_average vote_count certification  \n",
       "1    0.0         5.500       22.0           NaN  \n",
       "2    0.0         5.100        8.0           NaN  \n",
       "3    0.0         0.000        0.0           NaN  \n",
       "4    0.0         8.107     1932.0            PG  \n",
       "5    0.0         6.900       46.0             R  \n",
       "\n",
       "[5 rows x 26 columns]"
      ]
     },
     "execution_count": 21,
     "metadata": {},
     "output_type": "execute_result"
    }
   ],
   "source": [
    "combined_years = pd.concat([y2k,y2k1])\n",
    "combined_years.head()"
   ]
  },
  {
   "cell_type": "code",
   "execution_count": 22,
   "id": "01da8f23",
   "metadata": {},
   "outputs": [
    {
     "name": "stdout",
     "output_type": "stream",
     "text": [
      "<class 'pandas.core.frame.DataFrame'>\n",
      "Int64Index: 2488 entries, 1 to 1285\n",
      "Data columns (total 26 columns):\n",
      " #   Column                 Non-Null Count  Dtype  \n",
      "---  ------                 --------------  -----  \n",
      " 0   imdb_id                2488 non-null   object \n",
      " 1   adult                  2488 non-null   float64\n",
      " 2   backdrop_path          1280 non-null   object \n",
      " 3   belongs_to_collection  196 non-null    object \n",
      " 4   budget                 2488 non-null   float64\n",
      " 5   genres                 2488 non-null   object \n",
      " 6   homepage               174 non-null    object \n",
      " 7   id                     2488 non-null   float64\n",
      " 8   original_language      2488 non-null   object \n",
      " 9   original_title         2488 non-null   object \n",
      " 10  overview               2436 non-null   object \n",
      " 11  popularity             2488 non-null   float64\n",
      " 12  poster_path            2191 non-null   object \n",
      " 13  production_companies   2488 non-null   object \n",
      " 14  production_countries   2488 non-null   object \n",
      " 15  release_date           2468 non-null   object \n",
      " 16  revenue                2488 non-null   float64\n",
      " 17  runtime                2488 non-null   float64\n",
      " 18  spoken_languages       2488 non-null   object \n",
      " 19  status                 2488 non-null   object \n",
      " 20  tagline                1038 non-null   object \n",
      " 21  title                  2488 non-null   object \n",
      " 22  video                  2488 non-null   float64\n",
      " 23  vote_average           2488 non-null   float64\n",
      " 24  vote_count             2488 non-null   float64\n",
      " 25  certification          790 non-null    object \n",
      "dtypes: float64(9), object(17)\n",
      "memory usage: 524.8+ KB\n"
     ]
    }
   ],
   "source": [
    "combined_years.info()"
   ]
  },
  {
   "cell_type": "markdown",
   "id": "fcb10eb3",
   "metadata": {},
   "source": [
    "- How many movies had at least some valid financial information?\n",
    "    - 619 movies had valid financial info in budget and revenue columns\n",
    "    - 74 movies had valid financial info after dropping movies with 0's for budget AND revenue from the remaining visualizations."
   ]
  },
  {
   "cell_type": "code",
   "execution_count": 16,
   "id": "74a9a72c",
   "metadata": {},
   "outputs": [
    {
     "name": "stdout",
     "output_type": "stream",
     "text": [
      "<class 'pandas.core.frame.DataFrame'>\n",
      "Int64Index: 619 entries, 1 to 1266\n",
      "Data columns (total 26 columns):\n",
      " #   Column                 Non-Null Count  Dtype  \n",
      "---  ------                 --------------  -----  \n",
      " 0   imdb_id                619 non-null    object \n",
      " 1   adult                  619 non-null    float64\n",
      " 2   backdrop_path          516 non-null    object \n",
      " 3   belongs_to_collection  102 non-null    object \n",
      " 4   budget                 619 non-null    float64\n",
      " 5   genres                 619 non-null    object \n",
      " 6   homepage               80 non-null     object \n",
      " 7   id                     619 non-null    float64\n",
      " 8   original_language      619 non-null    object \n",
      " 9   original_title         619 non-null    object \n",
      " 10  overview               616 non-null    object \n",
      " 11  popularity             619 non-null    float64\n",
      " 12  poster_path            598 non-null    object \n",
      " 13  production_companies   619 non-null    object \n",
      " 14  production_countries   619 non-null    object \n",
      " 15  release_date           619 non-null    object \n",
      " 16  revenue                619 non-null    float64\n",
      " 17  runtime                619 non-null    float64\n",
      " 18  spoken_languages       619 non-null    object \n",
      " 19  status                 619 non-null    object \n",
      " 20  tagline                475 non-null    object \n",
      " 21  title                  619 non-null    object \n",
      " 22  video                  619 non-null    float64\n",
      " 23  vote_average           619 non-null    float64\n",
      " 24  vote_count             619 non-null    float64\n",
      " 25  certification          423 non-null    object \n",
      "dtypes: float64(9), object(17)\n",
      "memory usage: 130.6+ KB\n"
     ]
    }
   ],
   "source": [
    "combined_years = combined_years[(combined_years['revenue']>0.0) | (combined_years['budget']>0.0)]\n",
    "combined_years.info()"
   ]
  },
  {
   "cell_type": "code",
   "execution_count": 23,
   "id": "c7b87aaa",
   "metadata": {},
   "outputs": [
    {
     "name": "stdout",
     "output_type": "stream",
     "text": [
      "<class 'pandas.core.frame.DataFrame'>\n",
      "Int64Index: 74 entries, 11 to 1243\n",
      "Data columns (total 26 columns):\n",
      " #   Column                 Non-Null Count  Dtype  \n",
      "---  ------                 --------------  -----  \n",
      " 0   imdb_id                74 non-null     object \n",
      " 1   adult                  74 non-null     float64\n",
      " 2   backdrop_path          72 non-null     object \n",
      " 3   belongs_to_collection  14 non-null     object \n",
      " 4   budget                 74 non-null     float64\n",
      " 5   genres                 74 non-null     object \n",
      " 6   homepage               10 non-null     object \n",
      " 7   id                     74 non-null     float64\n",
      " 8   original_language      74 non-null     object \n",
      " 9   original_title         74 non-null     object \n",
      " 10  overview               74 non-null     object \n",
      " 11  popularity             74 non-null     float64\n",
      " 12  poster_path            74 non-null     object \n",
      " 13  production_companies   74 non-null     object \n",
      " 14  production_countries   74 non-null     object \n",
      " 15  release_date           74 non-null     object \n",
      " 16  revenue                74 non-null     float64\n",
      " 17  runtime                74 non-null     float64\n",
      " 18  spoken_languages       74 non-null     object \n",
      " 19  status                 74 non-null     object \n",
      " 20  tagline                65 non-null     object \n",
      " 21  title                  74 non-null     object \n",
      " 22  video                  74 non-null     float64\n",
      " 23  vote_average           74 non-null     float64\n",
      " 24  vote_count             74 non-null     float64\n",
      " 25  certification          64 non-null     object \n",
      "dtypes: float64(9), object(17)\n",
      "memory usage: 15.6+ KB\n"
     ]
    }
   ],
   "source": [
    "combined_years.drop(combined_years.loc[combined_years['revenue'] == 0.0].index, inplace=True)\n",
    "combined_years.drop(combined_years.loc[combined_years['budget'] == 0.0].index, inplace=True)\n",
    "combined_years.info()"
   ]
  },
  {
   "cell_type": "markdown",
   "id": "8994f1a1",
   "metadata": {},
   "source": [
    "- How many movies are there in each of the certification categories (G/PG/PG-13/R)?\n"
   ]
  },
  {
   "cell_type": "code",
   "execution_count": 25,
   "id": "7d646547",
   "metadata": {},
   "outputs": [
    {
     "data": {
      "text/plain": [
       "R        34\n",
       "PG-13    21\n",
       "PG        8\n",
       "NR        1\n",
       "Name: certification, dtype: int64"
      ]
     },
     "execution_count": 25,
     "metadata": {},
     "output_type": "execute_result"
    }
   ],
   "source": [
    "combined_years['certification'].value_counts()\n"
   ]
  },
  {
   "cell_type": "markdown",
   "id": "ef6a09ce",
   "metadata": {},
   "source": [
    "- What is the average revenue per certification category?\n"
   ]
  },
  {
   "cell_type": "code",
   "execution_count": 28,
   "id": "9dd0cabe",
   "metadata": {},
   "outputs": [
    {
     "data": {
      "text/plain": [
       "certification\n",
       "NR          268,117.000\n",
       "PG       86,196,171.250\n",
       "PG-13   121,860,410.667\n",
       "R        46,498,873.735\n",
       "Name: revenue, dtype: float64"
      ]
     },
     "execution_count": 28,
     "metadata": {},
     "output_type": "execute_result"
    }
   ],
   "source": [
    "combined_years.groupby('certification')['revenue'].mean()"
   ]
  },
  {
   "cell_type": "markdown",
   "id": "2228262f",
   "metadata": {},
   "source": [
    "- What is the average budget per certification category?\n"
   ]
  },
  {
   "cell_type": "code",
   "execution_count": 29,
   "id": "63d5c9dc",
   "metadata": {},
   "outputs": [
    {
     "data": {
      "text/plain": [
       "certification\n",
       "NR       1,500,000.000\n",
       "PG      43,525,000.000\n",
       "PG-13   58,100,000.000\n",
       "R       29,512,352.941\n",
       "Name: budget, dtype: float64"
      ]
     },
     "execution_count": 29,
     "metadata": {},
     "output_type": "execute_result"
    }
   ],
   "source": [
    "combined_years.groupby('certification')['budget'].mean()"
   ]
  },
  {
   "cell_type": "code",
   "execution_count": 31,
   "id": "84c887c3",
   "metadata": {},
   "outputs": [],
   "source": [
    "combined_years.to_csv('Loading_Cleaning/Data/tmdb_results_combined.csv.gz',compression= \"gzip\", index= False)"
   ]
  },
  {
   "cell_type": "code",
   "execution_count": null,
   "id": "5aace99a",
   "metadata": {},
   "outputs": [],
   "source": []
  }
 ],
 "metadata": {
  "kernelspec": {
   "display_name": "Python (dojo-env)",
   "language": "python",
   "name": "dojo-env"
  },
  "language_info": {
   "codemirror_mode": {
    "name": "ipython",
    "version": 3
   },
   "file_extension": ".py",
   "mimetype": "text/x-python",
   "name": "python",
   "nbconvert_exporter": "python",
   "pygments_lexer": "ipython3",
   "version": "3.8.13"
  },
  "toc": {
   "base_numbering": 1,
   "nav_menu": {},
   "number_sections": false,
   "sideBar": true,
   "skip_h1_title": false,
   "title_cell": "Table of Contents",
   "title_sidebar": "Contents",
   "toc_cell": false,
   "toc_position": {},
   "toc_section_display": true,
   "toc_window_display": false
  }
 },
 "nbformat": 4,
 "nbformat_minor": 5
}
